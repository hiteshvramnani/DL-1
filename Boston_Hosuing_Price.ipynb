{
  "nbformat": 4,
  "nbformat_minor": 0,
  "metadata": {
    "colab": {
      "provenance": []
    },
    "kernelspec": {
      "name": "python3",
      "display_name": "Python 3"
    },
    "language_info": {
      "name": "python"
    }
  },
  "cells": [
    {
      "cell_type": "code",
      "execution_count": null,
      "metadata": {
        "id": "a23pFOC-MwFJ"
      },
      "outputs": [],
      "source": [
        "import pandas as pd\n",
        "df = pd.read_csv(\"/content/drive/MyDrive/Dataset/boston_housing.csv\")"
      ]
    },
    {
      "cell_type": "code",
      "source": [
        "from sklearn.model_selection import train_test_split\n",
        "\n",
        "X = df.loc[:, df.columns != 'MEDV']\n",
        "y = df.loc[:, df.columns == 'MEDV']\n",
        "X_train, X_test, y_train, y_test = train_test_split(X, y, test_size=0.3, random_state=123)"
      ],
      "metadata": {
        "id": "XuTRwP6kONLE"
      },
      "execution_count": null,
      "outputs": []
    },
    {
      "cell_type": "code",
      "source": [
        "from sklearn.preprocessing import MinMaxScaler\n",
        "mms = MinMaxScaler()\n",
        "mms.fit(X_train)\n",
        "X_train = mms.transform(X_train)\n",
        "X_test = mms.transform(X_test)"
      ],
      "metadata": {
        "id": "lqIzMZvqORd1"
      },
      "execution_count": null,
      "outputs": []
    },
    {
      "cell_type": "code",
      "source": [
        "from tensorflow.keras.models import Sequential\n",
        "from tensorflow.keras.layers import Dense\n",
        "\n",
        "model = Sequential()\n",
        "\n",
        "model.add(Dense(128, input_shape=(13, ), activation='relu', name='dense_1'))\n",
        "model.add(Dense(64, activation='relu', name='dense_2'))\n",
        "model.add(Dense(1, activation='linear', name='dense_output'))\n",
        "\n",
        "model.compile(optimizer='adam', loss='mse', metrics=['mae'])\n",
        "model.summary()"
      ],
      "metadata": {
        "colab": {
          "base_uri": "https://localhost:8080/"
        },
        "id": "ZRzbXAsJOTd1",
        "outputId": "6f52b8fe-ab39-447f-c0e7-a66b63b8d5a9"
      },
      "execution_count": null,
      "outputs": [
        {
          "output_type": "stream",
          "name": "stdout",
          "text": [
            "Model: \"sequential\"\n",
            "_________________________________________________________________\n",
            " Layer (type)                Output Shape              Param #   \n",
            "=================================================================\n",
            " dense_1 (Dense)             (None, 128)               1792      \n",
            "                                                                 \n",
            " dense_2 (Dense)             (None, 64)                8256      \n",
            "                                                                 \n",
            " dense_output (Dense)        (None, 1)                 65        \n",
            "                                                                 \n",
            "=================================================================\n",
            "Total params: 10,113\n",
            "Trainable params: 10,113\n",
            "Non-trainable params: 0\n",
            "_________________________________________________________________\n"
          ]
        }
      ]
    },
    {
      "cell_type": "code",
      "source": [
        "history = model.fit(X_train, y_train, epochs=100, validation_split=0.05, verbose = 1)"
      ],
      "metadata": {
        "colab": {
          "base_uri": "https://localhost:8080/"
        },
        "id": "le8oUlF9OVFa",
        "outputId": "b0fb8da1-0f36-4f75-837c-4647992bfae3"
      },
      "execution_count": null,
      "outputs": [
        {
          "output_type": "stream",
          "name": "stdout",
          "text": [
            "Epoch 1/100\n",
            "11/11 [==============================] - 2s 29ms/step - loss: 581.2369 - mae: 22.2730 - val_loss: 591.4639 - val_mae: 22.3774\n",
            "Epoch 2/100\n",
            "11/11 [==============================] - 0s 9ms/step - loss: 528.6507 - mae: 21.0162 - val_loss: 529.4412 - val_mae: 20.9051\n",
            "Epoch 3/100\n",
            "11/11 [==============================] - 0s 5ms/step - loss: 451.9475 - mae: 19.0153 - val_loss: 428.9457 - val_mae: 18.2197\n",
            "Epoch 4/100\n",
            "11/11 [==============================] - 0s 5ms/step - loss: 337.7332 - mae: 15.6528 - val_loss: 293.2766 - val_mae: 13.9876\n",
            "Epoch 5/100\n",
            "11/11 [==============================] - 0s 5ms/step - loss: 213.7148 - mae: 11.6380 - val_loss: 172.8648 - val_mae: 9.3466\n",
            "Epoch 6/100\n",
            "11/11 [==============================] - 0s 5ms/step - loss: 144.9411 - mae: 9.4109 - val_loss: 130.2168 - val_mae: 8.2025\n",
            "Epoch 7/100\n",
            "11/11 [==============================] - 0s 5ms/step - loss: 128.1821 - mae: 8.7662 - val_loss: 117.4746 - val_mae: 7.7645\n",
            "Epoch 8/100\n",
            "11/11 [==============================] - 0s 5ms/step - loss: 107.8885 - mae: 7.8930 - val_loss: 108.6636 - val_mae: 7.3272\n",
            "Epoch 9/100\n",
            "11/11 [==============================] - 0s 5ms/step - loss: 93.3376 - mae: 7.1603 - val_loss: 99.7241 - val_mae: 6.8962\n",
            "Epoch 10/100\n",
            "11/11 [==============================] - 0s 5ms/step - loss: 81.2135 - mae: 6.5544 - val_loss: 90.7045 - val_mae: 6.5307\n",
            "Epoch 11/100\n",
            "11/11 [==============================] - 0s 7ms/step - loss: 71.6444 - mae: 6.0593 - val_loss: 84.1082 - val_mae: 6.2297\n",
            "Epoch 12/100\n",
            "11/11 [==============================] - 0s 5ms/step - loss: 64.4265 - mae: 5.7818 - val_loss: 77.6784 - val_mae: 6.2143\n",
            "Epoch 13/100\n",
            "11/11 [==============================] - 0s 5ms/step - loss: 58.5648 - mae: 5.4448 - val_loss: 75.1522 - val_mae: 5.9502\n",
            "Epoch 14/100\n",
            "11/11 [==============================] - 0s 5ms/step - loss: 54.9439 - mae: 5.1861 - val_loss: 71.6595 - val_mae: 6.0028\n",
            "Epoch 15/100\n",
            "11/11 [==============================] - 0s 5ms/step - loss: 51.9872 - mae: 5.0690 - val_loss: 69.4425 - val_mae: 5.9248\n",
            "Epoch 16/100\n",
            "11/11 [==============================] - 0s 5ms/step - loss: 49.5212 - mae: 4.8929 - val_loss: 68.3212 - val_mae: 5.7238\n",
            "Epoch 17/100\n",
            "11/11 [==============================] - 0s 5ms/step - loss: 47.6372 - mae: 4.7822 - val_loss: 65.7841 - val_mae: 5.7411\n",
            "Epoch 18/100\n",
            "11/11 [==============================] - 0s 6ms/step - loss: 45.4784 - mae: 4.6692 - val_loss: 64.1167 - val_mae: 5.6453\n",
            "Epoch 19/100\n",
            "11/11 [==============================] - 0s 5ms/step - loss: 43.4902 - mae: 4.5888 - val_loss: 61.9780 - val_mae: 5.5728\n",
            "Epoch 20/100\n",
            "11/11 [==============================] - 0s 5ms/step - loss: 41.5000 - mae: 4.4882 - val_loss: 59.7882 - val_mae: 5.5152\n",
            "Epoch 21/100\n",
            "11/11 [==============================] - 0s 5ms/step - loss: 39.4115 - mae: 4.3281 - val_loss: 59.0726 - val_mae: 5.2610\n",
            "Epoch 22/100\n",
            "11/11 [==============================] - 0s 6ms/step - loss: 37.5114 - mae: 4.1998 - val_loss: 56.5891 - val_mae: 5.2429\n",
            "Epoch 23/100\n",
            "11/11 [==============================] - 0s 5ms/step - loss: 36.0810 - mae: 4.2451 - val_loss: 53.8577 - val_mae: 5.2664\n",
            "Epoch 24/100\n",
            "11/11 [==============================] - 0s 5ms/step - loss: 34.1486 - mae: 3.9980 - val_loss: 54.3465 - val_mae: 5.0575\n",
            "Epoch 25/100\n",
            "11/11 [==============================] - 0s 5ms/step - loss: 31.9373 - mae: 3.8952 - val_loss: 50.2266 - val_mae: 5.0868\n",
            "Epoch 26/100\n",
            "11/11 [==============================] - 0s 5ms/step - loss: 30.6528 - mae: 3.8731 - val_loss: 50.3392 - val_mae: 5.0099\n",
            "Epoch 27/100\n",
            "11/11 [==============================] - 0s 5ms/step - loss: 29.0931 - mae: 3.6840 - val_loss: 49.0933 - val_mae: 4.9818\n",
            "Epoch 28/100\n",
            "11/11 [==============================] - 0s 7ms/step - loss: 27.9905 - mae: 3.7592 - val_loss: 45.6557 - val_mae: 4.9766\n",
            "Epoch 29/100\n",
            "11/11 [==============================] - 0s 5ms/step - loss: 26.8778 - mae: 3.5494 - val_loss: 47.3741 - val_mae: 4.8808\n",
            "Epoch 30/100\n",
            "11/11 [==============================] - 0s 5ms/step - loss: 25.3557 - mae: 3.4942 - val_loss: 43.7892 - val_mae: 4.8771\n",
            "Epoch 31/100\n",
            "11/11 [==============================] - 0s 5ms/step - loss: 24.2266 - mae: 3.3554 - val_loss: 44.4266 - val_mae: 4.8094\n",
            "Epoch 32/100\n",
            "11/11 [==============================] - 0s 5ms/step - loss: 23.0826 - mae: 3.3120 - val_loss: 41.7969 - val_mae: 4.7741\n",
            "Epoch 33/100\n",
            "11/11 [==============================] - 0s 5ms/step - loss: 22.2531 - mae: 3.2532 - val_loss: 42.3937 - val_mae: 4.7066\n",
            "Epoch 34/100\n",
            "11/11 [==============================] - 0s 5ms/step - loss: 21.6866 - mae: 3.1753 - val_loss: 40.4013 - val_mae: 4.6847\n",
            "Epoch 35/100\n",
            "11/11 [==============================] - 0s 6ms/step - loss: 21.0598 - mae: 3.1532 - val_loss: 40.2899 - val_mae: 4.6082\n",
            "Epoch 36/100\n",
            "11/11 [==============================] - 0s 5ms/step - loss: 20.7183 - mae: 3.1793 - val_loss: 39.2081 - val_mae: 4.5527\n",
            "Epoch 37/100\n",
            "11/11 [==============================] - 0s 5ms/step - loss: 19.9169 - mae: 3.0512 - val_loss: 39.5009 - val_mae: 4.4998\n",
            "Epoch 38/100\n",
            "11/11 [==============================] - 0s 6ms/step - loss: 19.6959 - mae: 3.0508 - val_loss: 38.1453 - val_mae: 4.4524\n",
            "Epoch 39/100\n",
            "11/11 [==============================] - 0s 5ms/step - loss: 19.1948 - mae: 2.9827 - val_loss: 37.7476 - val_mae: 4.3869\n",
            "Epoch 40/100\n",
            "11/11 [==============================] - 0s 6ms/step - loss: 18.9137 - mae: 3.0145 - val_loss: 37.0141 - val_mae: 4.3298\n",
            "Epoch 41/100\n",
            "11/11 [==============================] - 0s 6ms/step - loss: 18.8678 - mae: 2.9660 - val_loss: 36.9454 - val_mae: 4.2923\n",
            "Epoch 42/100\n",
            "11/11 [==============================] - 0s 5ms/step - loss: 18.3489 - mae: 2.9252 - val_loss: 36.4610 - val_mae: 4.2375\n",
            "Epoch 43/100\n",
            "11/11 [==============================] - 0s 5ms/step - loss: 18.0957 - mae: 2.9261 - val_loss: 35.3646 - val_mae: 4.1834\n",
            "Epoch 44/100\n",
            "11/11 [==============================] - 0s 5ms/step - loss: 17.8643 - mae: 2.8820 - val_loss: 36.1963 - val_mae: 4.1485\n",
            "Epoch 45/100\n",
            "11/11 [==============================] - 0s 5ms/step - loss: 17.5464 - mae: 2.8509 - val_loss: 34.0365 - val_mae: 4.0993\n",
            "Epoch 46/100\n",
            "11/11 [==============================] - 0s 5ms/step - loss: 17.7765 - mae: 2.8532 - val_loss: 34.2766 - val_mae: 4.0550\n",
            "Epoch 47/100\n",
            "11/11 [==============================] - 0s 5ms/step - loss: 17.6736 - mae: 2.9139 - val_loss: 34.4716 - val_mae: 4.0119\n",
            "Epoch 48/100\n",
            "11/11 [==============================] - 0s 5ms/step - loss: 16.9741 - mae: 2.7897 - val_loss: 33.1943 - val_mae: 3.9504\n",
            "Epoch 49/100\n",
            "11/11 [==============================] - 0s 5ms/step - loss: 16.8637 - mae: 2.8013 - val_loss: 32.7840 - val_mae: 3.9252\n",
            "Epoch 50/100\n",
            "11/11 [==============================] - 0s 5ms/step - loss: 16.6241 - mae: 2.7512 - val_loss: 33.2076 - val_mae: 3.8910\n",
            "Epoch 51/100\n",
            "11/11 [==============================] - 0s 6ms/step - loss: 16.5580 - mae: 2.8074 - val_loss: 32.1353 - val_mae: 3.8392\n",
            "Epoch 52/100\n",
            "11/11 [==============================] - 0s 5ms/step - loss: 16.4375 - mae: 2.7331 - val_loss: 32.5357 - val_mae: 3.8222\n",
            "Epoch 53/100\n",
            "11/11 [==============================] - 0s 5ms/step - loss: 16.1599 - mae: 2.7223 - val_loss: 31.7767 - val_mae: 3.7779\n",
            "Epoch 54/100\n",
            "11/11 [==============================] - 0s 5ms/step - loss: 16.0227 - mae: 2.7261 - val_loss: 31.2590 - val_mae: 3.7447\n",
            "Epoch 55/100\n",
            "11/11 [==============================] - 0s 5ms/step - loss: 16.0820 - mae: 2.6841 - val_loss: 31.6150 - val_mae: 3.7169\n",
            "Epoch 56/100\n",
            "11/11 [==============================] - 0s 5ms/step - loss: 15.9302 - mae: 2.7400 - val_loss: 31.5715 - val_mae: 3.6881\n",
            "Epoch 57/100\n",
            "11/11 [==============================] - 0s 5ms/step - loss: 15.6683 - mae: 2.6577 - val_loss: 31.1184 - val_mae: 3.6564\n",
            "Epoch 58/100\n",
            "11/11 [==============================] - 0s 5ms/step - loss: 15.6328 - mae: 2.7045 - val_loss: 30.7201 - val_mae: 3.6137\n",
            "Epoch 59/100\n",
            "11/11 [==============================] - 0s 5ms/step - loss: 15.6231 - mae: 2.6360 - val_loss: 29.9852 - val_mae: 3.5612\n",
            "Epoch 60/100\n",
            "11/11 [==============================] - 0s 5ms/step - loss: 15.6615 - mae: 2.7665 - val_loss: 29.7492 - val_mae: 3.5423\n",
            "Epoch 61/100\n",
            "11/11 [==============================] - 0s 5ms/step - loss: 15.3513 - mae: 2.6342 - val_loss: 29.3415 - val_mae: 3.5143\n",
            "Epoch 62/100\n",
            "11/11 [==============================] - 0s 5ms/step - loss: 15.1626 - mae: 2.6343 - val_loss: 28.8354 - val_mae: 3.4852\n",
            "Epoch 63/100\n",
            "11/11 [==============================] - 0s 5ms/step - loss: 15.0666 - mae: 2.6394 - val_loss: 29.5317 - val_mae: 3.5124\n",
            "Epoch 64/100\n",
            "11/11 [==============================] - 0s 5ms/step - loss: 15.0203 - mae: 2.6577 - val_loss: 29.9505 - val_mae: 3.5227\n",
            "Epoch 65/100\n",
            "11/11 [==============================] - 0s 5ms/step - loss: 14.9561 - mae: 2.5804 - val_loss: 27.7084 - val_mae: 3.4084\n",
            "Epoch 66/100\n",
            "11/11 [==============================] - 0s 6ms/step - loss: 14.9052 - mae: 2.6896 - val_loss: 29.7754 - val_mae: 3.4691\n",
            "Epoch 67/100\n",
            "11/11 [==============================] - 0s 5ms/step - loss: 14.9069 - mae: 2.6077 - val_loss: 27.3183 - val_mae: 3.3583\n",
            "Epoch 68/100\n",
            "11/11 [==============================] - 0s 5ms/step - loss: 14.5671 - mae: 2.6000 - val_loss: 29.3523 - val_mae: 3.4394\n",
            "Epoch 69/100\n",
            "11/11 [==============================] - 0s 6ms/step - loss: 14.6910 - mae: 2.5946 - val_loss: 26.7113 - val_mae: 3.3496\n",
            "Epoch 70/100\n",
            "11/11 [==============================] - 0s 5ms/step - loss: 14.4517 - mae: 2.5743 - val_loss: 28.4032 - val_mae: 3.3775\n",
            "Epoch 71/100\n",
            "11/11 [==============================] - 0s 5ms/step - loss: 14.5066 - mae: 2.6085 - val_loss: 27.0914 - val_mae: 3.3283\n",
            "Epoch 72/100\n",
            "11/11 [==============================] - 0s 5ms/step - loss: 14.3233 - mae: 2.6019 - val_loss: 28.3420 - val_mae: 3.3562\n",
            "Epoch 73/100\n",
            "11/11 [==============================] - 0s 5ms/step - loss: 14.3378 - mae: 2.5474 - val_loss: 27.1040 - val_mae: 3.2867\n",
            "Epoch 74/100\n",
            "11/11 [==============================] - 0s 6ms/step - loss: 14.2633 - mae: 2.5563 - val_loss: 26.7387 - val_mae: 3.2798\n",
            "Epoch 75/100\n",
            "11/11 [==============================] - 0s 5ms/step - loss: 14.0130 - mae: 2.5131 - val_loss: 27.5069 - val_mae: 3.2839\n",
            "Epoch 76/100\n",
            "11/11 [==============================] - 0s 5ms/step - loss: 14.2784 - mae: 2.6028 - val_loss: 26.9797 - val_mae: 3.2700\n",
            "Epoch 77/100\n",
            "11/11 [==============================] - 0s 5ms/step - loss: 14.0954 - mae: 2.5179 - val_loss: 26.3938 - val_mae: 3.2491\n",
            "Epoch 78/100\n",
            "11/11 [==============================] - 0s 5ms/step - loss: 13.7948 - mae: 2.4961 - val_loss: 25.9890 - val_mae: 3.2203\n",
            "Epoch 79/100\n",
            "11/11 [==============================] - 0s 5ms/step - loss: 13.7704 - mae: 2.5389 - val_loss: 25.8992 - val_mae: 3.1972\n",
            "Epoch 80/100\n",
            "11/11 [==============================] - 0s 7ms/step - loss: 13.6423 - mae: 2.5043 - val_loss: 26.2251 - val_mae: 3.1904\n",
            "Epoch 81/100\n",
            "11/11 [==============================] - 0s 6ms/step - loss: 13.6067 - mae: 2.4905 - val_loss: 24.9630 - val_mae: 3.1468\n",
            "Epoch 82/100\n",
            "11/11 [==============================] - 0s 5ms/step - loss: 13.5267 - mae: 2.5063 - val_loss: 25.9514 - val_mae: 3.1634\n",
            "Epoch 83/100\n",
            "11/11 [==============================] - 0s 5ms/step - loss: 13.4606 - mae: 2.4937 - val_loss: 25.1800 - val_mae: 3.1244\n",
            "Epoch 84/100\n",
            "11/11 [==============================] - 0s 6ms/step - loss: 13.3805 - mae: 2.4692 - val_loss: 23.7335 - val_mae: 3.1005\n",
            "Epoch 85/100\n",
            "11/11 [==============================] - 0s 5ms/step - loss: 13.4149 - mae: 2.5136 - val_loss: 24.1391 - val_mae: 3.0825\n",
            "Epoch 86/100\n",
            "11/11 [==============================] - 0s 5ms/step - loss: 13.3543 - mae: 2.5114 - val_loss: 24.8904 - val_mae: 3.1040\n",
            "Epoch 87/100\n",
            "11/11 [==============================] - 0s 5ms/step - loss: 13.2628 - mae: 2.4747 - val_loss: 23.5827 - val_mae: 3.0603\n",
            "Epoch 88/100\n",
            "11/11 [==============================] - 0s 5ms/step - loss: 13.0508 - mae: 2.4547 - val_loss: 24.7431 - val_mae: 3.0979\n",
            "Epoch 89/100\n",
            "11/11 [==============================] - 0s 5ms/step - loss: 13.1053 - mae: 2.4376 - val_loss: 22.3340 - val_mae: 3.0541\n",
            "Epoch 90/100\n",
            "11/11 [==============================] - 0s 5ms/step - loss: 13.1009 - mae: 2.5294 - val_loss: 26.0929 - val_mae: 3.1321\n",
            "Epoch 91/100\n",
            "11/11 [==============================] - 0s 5ms/step - loss: 13.5809 - mae: 2.4805 - val_loss: 21.8227 - val_mae: 2.9993\n",
            "Epoch 92/100\n",
            "11/11 [==============================] - 0s 5ms/step - loss: 13.2971 - mae: 2.4716 - val_loss: 24.2631 - val_mae: 3.0102\n",
            "Epoch 93/100\n",
            "11/11 [==============================] - 0s 5ms/step - loss: 12.6983 - mae: 2.4090 - val_loss: 21.3224 - val_mae: 2.9759\n",
            "Epoch 94/100\n",
            "11/11 [==============================] - 0s 5ms/step - loss: 13.2224 - mae: 2.4838 - val_loss: 23.9122 - val_mae: 2.9784\n",
            "Epoch 95/100\n",
            "11/11 [==============================] - 0s 5ms/step - loss: 12.8804 - mae: 2.4738 - val_loss: 22.7530 - val_mae: 2.9585\n",
            "Epoch 96/100\n",
            "11/11 [==============================] - 0s 5ms/step - loss: 12.6838 - mae: 2.3765 - val_loss: 22.0688 - val_mae: 2.9328\n",
            "Epoch 97/100\n",
            "11/11 [==============================] - 0s 5ms/step - loss: 12.6269 - mae: 2.4230 - val_loss: 21.2649 - val_mae: 2.9084\n",
            "Epoch 98/100\n",
            "11/11 [==============================] - 0s 5ms/step - loss: 12.5651 - mae: 2.4194 - val_loss: 22.6811 - val_mae: 2.9043\n",
            "Epoch 99/100\n",
            "11/11 [==============================] - 0s 5ms/step - loss: 13.0477 - mae: 2.5120 - val_loss: 23.8103 - val_mae: 2.9862\n",
            "Epoch 100/100\n",
            "11/11 [==============================] - 0s 7ms/step - loss: 12.7984 - mae: 2.4004 - val_loss: 20.6815 - val_mae: 2.8592\n"
          ]
        }
      ]
    },
    {
      "cell_type": "code",
      "source": [
        "mse_nn, mae_nn = model.evaluate(X_test, y_test)\n",
        "\n",
        "print('Mean squared error on test data: ', mse_nn)\n",
        "print('Mean absolute error on test data: ', mae_nn)"
      ],
      "metadata": {
        "colab": {
          "base_uri": "https://localhost:8080/"
        },
        "id": "BGOvPPkEOYu4",
        "outputId": "06526bed-d80d-4ede-f130-b5786d2d4647"
      },
      "execution_count": null,
      "outputs": [
        {
          "output_type": "stream",
          "name": "stdout",
          "text": [
            "5/5 [==============================] - 0s 3ms/step - loss: 22.1751 - mae: 3.1074\n",
            "Mean squared error on test data:  22.175067901611328\n",
            "Mean absolute error on test data:  3.1074166297912598\n"
          ]
        }
      ]
    },
    {
      "cell_type": "code",
      "source": [],
      "metadata": {
        "id": "uMq8bySBOejP"
      },
      "execution_count": null,
      "outputs": []
    }
  ]
}